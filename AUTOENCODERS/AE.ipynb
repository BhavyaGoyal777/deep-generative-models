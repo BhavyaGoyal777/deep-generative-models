{
  "cells": [
    {
      "cell_type": "code",
      "execution_count": 1,
      "metadata": {
        "colab": {
          "base_uri": "https://localhost:8080/"
        },
        "id": "dsQZhTf2SRmp",
        "outputId": "68fbe8f9-6bb7-455d-e363-f6655dd6197f"
      },
      "outputs": [
        {
          "name": "stdout",
          "output_type": "stream",
          "text": [
            "Files extracted to: unzipped_landscape_pictures\n"
          ]
        }
      ],
      "source": [
        "import zipfile\n",
        "import os\n",
        "\n",
        "\n",
        "zip_path = '/content/landscape_pictures.zip'\n",
        "extract_to = 'unzipped_landscape_pictures'\n",
        "\n",
        "\n",
        "os.makedirs(extract_to, exist_ok=True)\n",
        "\n",
        "\n",
        "with zipfile.ZipFile(zip_path, 'r') as zip_ref:\n",
        "    zip_ref.extractall(extract_to)\n",
        "\n",
        "print(\"Files extracted to:\", extract_to)"
      ]
    },
    {
      "cell_type": "code",
      "execution_count": 2,
      "metadata": {
        "id": "-9JP2xR6SdaP"
      },
      "outputs": [],
      "source": [
        "import os\n",
        "from PIL import Image\n",
        "from torch.utils.data import Dataset, DataLoader\n",
        "from torchvision import transforms\n",
        "\n",
        "\n",
        "transform = transforms.Compose([\n",
        "    transforms.Resize((256, 256)),\n",
        "    transforms.ToTensor(),\n",
        "    transforms.Normalize(mean=[0.5, 0.5, 0.5],\n",
        "                         std=[0.5, 0.5, 0.5])\n",
        "])\n",
        "\n"
      ]
    },
    {
      "cell_type": "code",
      "execution_count": 3,
      "metadata": {
        "colab": {
          "base_uri": "https://localhost:8080/",
          "height": 253
        },
        "id": "AhHSt0r-SlkT",
        "outputId": "98697ed0-4d31-470c-d31d-a46056e5b7bd"
      },
      "outputs": [
        {
          "name": "stderr",
          "output_type": "stream",
          "text": [
            "\u001b[34m\u001b[1mwandb\u001b[0m: \u001b[33mWARNING\u001b[0m If you're specifying your api key in code, ensure this code is not shared publicly.\n",
            "\u001b[34m\u001b[1mwandb\u001b[0m: \u001b[33mWARNING\u001b[0m Consider setting the WANDB_API_KEY environment variable, or running `wandb login` from the command line.\n",
            "\u001b[34m\u001b[1mwandb\u001b[0m: No netrc file found, creating one.\n",
            "\u001b[34m\u001b[1mwandb\u001b[0m: Appending key for api.wandb.ai to your netrc file: /root/.netrc\n",
            "\u001b[34m\u001b[1mwandb\u001b[0m: Currently logged in as: \u001b[33m777bhavya\u001b[0m (\u001b[33m777bhavya-dwarkadas-j-sanghvi-college-of-engineering\u001b[0m) to \u001b[32mhttps://api.wandb.ai\u001b[0m. Use \u001b[1m`wandb login --relogin`\u001b[0m to force relogin\n",
            "\u001b[34m\u001b[1mwandb\u001b[0m: \u001b[33mWARNING\u001b[0m Using a boolean value for 'reinit' is deprecated. Use 'return_previous' or 'finish_previous' instead.\n"
          ]
        },
        {
          "data": {
            "text/html": [
              "Tracking run with wandb version 0.21.0"
            ],
            "text/plain": [
              "<IPython.core.display.HTML object>"
            ]
          },
          "metadata": {},
          "output_type": "display_data"
        },
        {
          "data": {
            "text/html": [
              "Run data is saved locally in <code>/content/wandb/run-20250714_234116-5lj59cl8</code>"
            ],
            "text/plain": [
              "<IPython.core.display.HTML object>"
            ]
          },
          "metadata": {},
          "output_type": "display_data"
        },
        {
          "data": {
            "text/html": [
              "Syncing run <strong><a href='https://wandb.ai/777bhavya-dwarkadas-j-sanghvi-college-of-engineering/conv-autoencoder-256/runs/5lj59cl8' target=\"_blank\">deep-ae-256x256</a></strong> to <a href='https://wandb.ai/777bhavya-dwarkadas-j-sanghvi-college-of-engineering/conv-autoencoder-256' target=\"_blank\">Weights & Biases</a> (<a href='https://wandb.me/developer-guide' target=\"_blank\">docs</a>)<br>"
            ],
            "text/plain": [
              "<IPython.core.display.HTML object>"
            ]
          },
          "metadata": {},
          "output_type": "display_data"
        },
        {
          "data": {
            "text/html": [
              " View project at <a href='https://wandb.ai/777bhavya-dwarkadas-j-sanghvi-college-of-engineering/conv-autoencoder-256' target=\"_blank\">https://wandb.ai/777bhavya-dwarkadas-j-sanghvi-college-of-engineering/conv-autoencoder-256</a>"
            ],
            "text/plain": [
              "<IPython.core.display.HTML object>"
            ]
          },
          "metadata": {},
          "output_type": "display_data"
        },
        {
          "data": {
            "text/html": [
              " View run at <a href='https://wandb.ai/777bhavya-dwarkadas-j-sanghvi-college-of-engineering/conv-autoencoder-256/runs/5lj59cl8' target=\"_blank\">https://wandb.ai/777bhavya-dwarkadas-j-sanghvi-college-of-engineering/conv-autoencoder-256/runs/5lj59cl8</a>"
            ],
            "text/plain": [
              "<IPython.core.display.HTML object>"
            ]
          },
          "metadata": {},
          "output_type": "display_data"
        },
        {
          "data": {
            "text/html": [
              "<button onClick=\"this.nextSibling.style.display='block';this.style.display='none';\">Display W&B run</button><iframe src='https://wandb.ai/777bhavya-dwarkadas-j-sanghvi-college-of-engineering/conv-autoencoder-256/runs/5lj59cl8?jupyter=true' style='border:none;width:100%;height:420px;display:none;'></iframe>"
            ],
            "text/plain": [
              "<wandb.sdk.wandb_run.Run at 0x7d2d27435410>"
            ]
          },
          "execution_count": 3,
          "metadata": {},
          "output_type": "execute_result"
        }
      ],
      "source": [
        "import torch\n",
        "import torch.nn as nn\n",
        "from torch.utils.data import random_split, DataLoader\n",
        "from torchvision import datasets, transforms, utils\n",
        "from tqdm import tqdm\n",
        "import wandb\n",
        "\n",
        "\n",
        "wandb.login(key=\"your_wandb_api_key_here\")  # Replace with your actual WandB API key\n",
        "wandb.init(project=\"conv-autoencoder-256\", name=\"deep-ae-256x256\", reinit=True)\n"
      ]
    },
    {
      "cell_type": "code",
      "execution_count": 5,
      "metadata": {
        "id": "LmvfmgykSl0r"
      },
      "outputs": [],
      "source": [
        "class ImageFolderDataset(Dataset):\n",
        "    def __init__(self, folder_path, transform=None):\n",
        "        self.folder_path = folder_path\n",
        "        self.image_files = [os.path.join(folder_path, f)\n",
        "                            for f in os.listdir(folder_path)\n",
        "                            if f.lower().endswith(('.png', '.jpg', '.jpeg'))]\n",
        "        self.transform = transform\n",
        "\n",
        "    def __len__(self):\n",
        "        return len(self.image_files)\n",
        "\n",
        "    def __getitem__(self, idx):\n",
        "        img = Image.open(self.image_files[idx]).convert(\"RGB\")\n",
        "        if self.transform:\n",
        "            img = self.transform(img)\n",
        "        return img \n",
        "\n",
        "\n",
        "img_folder = \"/content/unzipped_landscape_pictures\"\n",
        "\n",
        "# Dataset and DataLoader\n",
        "dataset = ImageFolderDataset(img_folder, transform=transform)\n",
        "# dataloader = DataLoader(dataset, batch_size=128, shuffle=True)\n",
        "\n",
        "# Check one batch\n",
        "\n"
      ]
    },
    {
      "cell_type": "code",
      "execution_count": 6,
      "metadata": {
        "id": "Zcwd9KWkSl8O"
      },
      "outputs": [],
      "source": [
        "\n",
        "\n",
        "\n",
        "val_ratio = 0.1\n",
        "val_size = int(len(dataset) * val_ratio)\n",
        "train_size = len(dataset) - val_size\n",
        "train_ds, val_ds = random_split(dataset, [train_size, val_size])\n",
        "\n",
        "train_loader = DataLoader(train_ds, batch_size=128, shuffle=True)\n",
        "val_loader = DataLoader(val_ds, batch_size=64, shuffle=False)\n"
      ]
    },
    {
      "cell_type": "code",
      "execution_count": 7,
      "metadata": {
        "id": "d-sV2m3JSl_E"
      },
      "outputs": [],
      "source": [
        "import torch\n",
        "import torch.nn as nn\n",
        "\n",
        "class DeepConvAutoencoder(nn.Module):\n",
        "    def __init__(self):\n",
        "        super().__init__()\n",
        "\n",
        "        \n",
        "        self.encoder = nn.Sequential(\n",
        "            nn.Conv2d(3, 64, kernel_size=4, stride=2, padding=1),   # 256 → 128\n",
        "            nn.BatchNorm2d(64),\n",
        "            nn.ReLU(),\n",
        "\n",
        "            nn.Conv2d(64, 128, kernel_size=4, stride=2, padding=1), # 128 → 64\n",
        "            nn.BatchNorm2d(128),\n",
        "            nn.ReLU(),\n",
        "\n",
        "            nn.Conv2d(128, 256, kernel_size=4, stride=2, padding=1),# 64 → 32\n",
        "            nn.BatchNorm2d(256),\n",
        "            nn.ReLU(),\n",
        "\n",
        "            nn.Conv2d(256, 512, kernel_size=4, stride=2, padding=1),# 32 → 16\n",
        "            nn.BatchNorm2d(512),\n",
        "            nn.ReLU()\n",
        "        )\n",
        "\n",
        "        \n",
        "        self.decoder = nn.Sequential(\n",
        "            nn.ConvTranspose2d(512, 256, kernel_size=4, stride=2, padding=1), # 16 → 32\n",
        "            nn.BatchNorm2d(256),\n",
        "            nn.ReLU(),\n",
        "\n",
        "            nn.ConvTranspose2d(256, 128, kernel_size=4, stride=2, padding=1), # 32 → 64\n",
        "            nn.BatchNorm2d(128),\n",
        "            nn.ReLU(),\n",
        "\n",
        "            nn.ConvTranspose2d(128, 64, kernel_size=4, stride=2, padding=1),  # 64 → 128\n",
        "            nn.BatchNorm2d(64),\n",
        "            nn.ReLU(),\n",
        "\n",
        "            nn.ConvTranspose2d(64, 3, kernel_size=4, stride=2, padding=1),    # 128 → 256\n",
        "            nn.Sigmoid()  # pixel values between 0 and 1\n",
        "        )\n",
        "\n",
        "    def forward(self, x):\n",
        "        z = self.encoder(x)\n",
        "        out = self.decoder(z)\n",
        "        return out\n"
      ]
    },
    {
      "cell_type": "code",
      "execution_count": 8,
      "metadata": {
        "id": "323EsaSUSmBJ"
      },
      "outputs": [],
      "source": [
        "\n",
        "\n",
        "\n",
        "device = torch.device(\"cuda\" if torch.cuda.is_available() else \"cpu\")\n",
        "model = DeepConvAutoencoder().to(device)\n",
        "criterion = nn.MSELoss()\n",
        "optimizer = torch.optim.Adam(model.parameters(), lr=1e-4)\n"
      ]
    },
    {
      "cell_type": "code",
      "execution_count": 15,
      "metadata": {
        "colab": {
          "base_uri": "https://localhost:8080/"
        },
        "id": "AFPvHNfwSmDO",
        "outputId": "2a97cae0-813f-4b64-fb58-385a5d7ea0b0"
      },
      "outputs": [
        {
          "name": "stderr",
          "output_type": "stream",
          "text": [
            "Epoch [1/20]: 100%|██████████| 31/31 [01:20<00:00,  2.59s/it, train_loss=0.177]\n",
            "Epoch [2/20]: 100%|██████████| 31/31 [01:20<00:00,  2.59s/it, train_loss=0.192]\n",
            "Epoch [3/20]: 100%|██████████| 31/31 [01:20<00:00,  2.60s/it, train_loss=0.211]\n",
            "Epoch [4/20]: 100%|██████████| 31/31 [01:21<00:00,  2.62s/it, train_loss=0.17]\n",
            "Epoch [5/20]: 100%|██████████| 31/31 [01:20<00:00,  2.61s/it, train_loss=0.192]\n",
            "Epoch [6/20]: 100%|██████████| 31/31 [01:21<00:00,  2.62s/it, train_loss=0.207]\n",
            "Epoch [7/20]: 100%|██████████| 31/31 [01:21<00:00,  2.62s/it, train_loss=0.218]\n",
            "Epoch [8/20]: 100%|██████████| 31/31 [01:21<00:00,  2.61s/it, train_loss=0.186]\n",
            "Epoch [9/20]: 100%|██████████| 31/31 [01:20<00:00,  2.60s/it, train_loss=0.215]\n",
            "Epoch [10/20]: 100%|██████████| 31/31 [01:20<00:00,  2.61s/it, train_loss=0.18]\n",
            "Epoch [11/20]: 100%|██████████| 31/31 [01:21<00:00,  2.62s/it, train_loss=0.208]\n",
            "Epoch [12/20]: 100%|██████████| 31/31 [01:20<00:00,  2.58s/it, train_loss=0.22]\n",
            "Epoch [13/20]: 100%|██████████| 31/31 [01:20<00:00,  2.59s/it, train_loss=0.177]\n",
            "Epoch [14/20]: 100%|██████████| 31/31 [01:20<00:00,  2.59s/it, train_loss=0.188]\n",
            "Epoch [15/20]: 100%|██████████| 31/31 [01:20<00:00,  2.59s/it, train_loss=0.193]\n",
            "Epoch [16/20]: 100%|██████████| 31/31 [01:21<00:00,  2.62s/it, train_loss=0.212]\n",
            "Epoch [17/20]: 100%|██████████| 31/31 [01:20<00:00,  2.60s/it, train_loss=0.206]\n",
            "Epoch [18/20]: 100%|██████████| 31/31 [01:20<00:00,  2.60s/it, train_loss=0.202]\n",
            "Epoch [19/20]: 100%|██████████| 31/31 [01:19<00:00,  2.57s/it, train_loss=0.187]\n",
            "Epoch [20/20]: 100%|██████████| 31/31 [01:20<00:00,  2.59s/it, train_loss=0.176]\n"
          ]
        }
      ],
      "source": [
        "EPOCHS = 20\n",
        "def log_reconstructions(images, reconstructions, label):\n",
        "    img_grid = make_grid(torch.cat([images[:8], reconstructions[:8]], dim=0), nrow=8, normalize=True)\n",
        "    wandb.log({label: [wandb.Image(img_grid)]})\n",
        "\n",
        "for epoch in range(EPOCHS):\n",
        "    model.train()\n",
        "    train_loss = 0\n",
        "    loop = tqdm(train_loader, desc=f\"Epoch [{epoch+1}/{EPOCHS}]\")\n",
        "\n",
        "    for images in loop:\n",
        "        images = images.to(device)\n",
        "\n",
        "        recon = model(images)\n",
        "        loss = criterion(recon, images)\n",
        "\n",
        "        optimizer.zero_grad()\n",
        "        loss.backward()\n",
        "        optimizer.step()\n",
        "\n",
        "        train_loss += loss.item()\n",
        "        loop.set_postfix(train_loss=loss.item())\n",
        "\n",
        "    train_loss /= len(train_loader)\n",
        "\n",
        "\n",
        "    model.eval()\n",
        "    val_loss = 0\n",
        "    with torch.no_grad():\n",
        "        for images  in val_loader:\n",
        "            images = images.to(device)\n",
        "            recon = model(images)\n",
        "            loss = criterion(recon, images)\n",
        "            val_loss += loss.item()\n",
        "    val_loss /= len(val_loader)\n",
        "\n",
        "\n",
        "    wandb.log({\n",
        "        \"train_loss\": train_loss,\n",
        "        \"val_loss\": val_loss,\n",
        "        \"epoch\": epoch + 1\n",
        "    })\n",
        "\n",
        "\n",
        "    with torch.no_grad():\n",
        "        val_imgs = next(iter(val_loader))\n",
        "        val_imgs = val_imgs.to(device)\n",
        "        recon = model(val_imgs)\n",
        "        log_reconstructions(val_imgs.cpu(), recon.cpu(), label=\"Reconstruction\")\n"
      ]
    },
    {
      "cell_type": "code",
      "execution_count": null,
      "metadata": {
        "id": "C0L6ZTiGSmFU"
      },
      "outputs": [],
      "source": []
    },
    {
      "cell_type": "code",
      "execution_count": null,
      "metadata": {
        "id": "6LAjwrCGSmHM"
      },
      "outputs": [],
      "source": []
    },
    {
      "cell_type": "code",
      "execution_count": null,
      "metadata": {
        "id": "SvaGQ1aJSmI-"
      },
      "outputs": [],
      "source": []
    },
    {
      "cell_type": "code",
      "execution_count": null,
      "metadata": {
        "id": "Vs8mrONISmKy"
      },
      "outputs": [],
      "source": []
    }
  ],
  "metadata": {
    "accelerator": "GPU",
    "colab": {
      "gpuType": "T4",
      "provenance": []
    },
    "kernelspec": {
      "display_name": "Python 3",
      "name": "python3"
    },
    "language_info": {
      "name": "python"
    }
  },
  "nbformat": 4,
  "nbformat_minor": 0
}
